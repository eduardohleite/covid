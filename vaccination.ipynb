{
 "cells": [
  {
   "cell_type": "code",
   "execution_count": 1,
   "source": [
    "import CSV"
   ],
   "outputs": [],
   "metadata": {}
  },
  {
   "cell_type": "code",
   "execution_count": 2,
   "source": [
    "CSV.File(\"part-00000-d0c7b956-b977-4478-91b3-bbe1461d9b4e-c000.csv\", limit=1)"
   ],
   "outputs": [
    {
     "output_type": "execute_result",
     "data": {
      "text/plain": [
       "1-element CSV.File{false}:\n",
       " CSV.Row: (document_id = \"07369add-e7e5-4e23-bd5d-896c132e7305-i0b0\", paciente_id = \"bf8298719051d3a9c15e4c054ce71efd50b64e5e19900981edac25a7dcbbeb64\", paciente_idade = 36, paciente_datanascimento = Dates.Date(\"1984-11-19\"), paciente_enumsexobiologico = \"F\", paciente_racacor_codigo = 1, paciente_racacor_valor = \"BRANCA\", paciente_endereco_coibgemunicipio = 354340, paciente_endereco_copais = 10, paciente_endereco_nmmunicipio = \"RIBEIRAO PRETO\", paciente_endereco_nmpais = \"BRASIL\", paciente_endereco_uf = \"SP\", paciente_endereco_cep = 14031, paciente_nacionalidade_enumnacionalidade = \"B\", estabelecimento_valor = 2064448, estabelecimento_razaosocial = \"PREFEITURA MUNICIPAL DE RIBEIRAO PRETO\", estalecimento_nofantasia = \"UBS DR WALDEMAR BARNSLEY PESSOA PARQUE RIBEIRAO\", estabelecimento_municipio_codigo = 354340, estabelecimento_municipio_nome = \"RIBEIRAO PRETO\", estabelecimento_uf = \"SP\", vacina_grupoatendimento_codigo = 201, vacina_grupoatendimento_nome = \"Pessoas de 18 a 64 anos\", vacina_categoria_codigo = 2, vacina_categoria_nome = \"Faixa Etária\", vacina_lote = 210223, vacina_fabricante_nome = \"SINOVAC/BUTANTAN\", vacina_fabricante_referencia = missing, vacina_dataaplicacao = Dates.Date(\"2021-07-17\"), vacina_descricao_dose = \"1ª Dose\", vacina_codigo = 86, vacina_nome = \"Covid-19-Coronavac-Sinovac/Butantan\", sistema_origem = \"VACIVIDA\", data_importacao_rnds = \"2021-07-17T03:00:00.000Z\", id_sistema_origem = 18262)"
      ]
     },
     "metadata": {},
     "execution_count": 2
    }
   ],
   "metadata": {}
  },
  {
   "cell_type": "code",
   "execution_count": 3,
   "source": [
    "CSV.File(\"part-00000-d0c7b956-b977-4478-91b3-bbe1461d9b4e-c000.csv\", select=[:vacina_nome, :vacina_dataaplicacao, :vacina_descricao_dose], limit=1)"
   ],
   "outputs": [
    {
     "output_type": "execute_result",
     "data": {
      "text/plain": [
       "1-element CSV.File{false}:\n",
       " CSV.Row: (vacina_dataaplicacao = Dates.Date(\"2021-07-17\"), vacina_descricao_dose = \"1ª Dose\", vacina_nome = \"Covid-19-Coronavac-Sinovac/Butantan\")"
      ]
     },
     "metadata": {},
     "execution_count": 3
    }
   ],
   "metadata": {}
  },
  {
   "cell_type": "code",
   "execution_count": 13,
   "source": [
    "f = CSV.File(\"part-00000-d0c7b956-b977-4478-91b3-bbe1461d9b4e-c000.csv\", select=[:vacina_nome, :vacina_dataaplicacao, :vacina_descricao_dose], threaded=true, tasks=8, limit=10000000);"
   ],
   "outputs": [],
   "metadata": {}
  },
  {
   "cell_type": "code",
   "execution_count": 14,
   "source": [
    "CSV.write(\"vaccinated_1.csv\", f)"
   ],
   "outputs": [
    {
     "output_type": "execute_result",
     "data": {
      "text/plain": [
       "\"vaccinated_1.csv\""
      ]
     },
     "metadata": {},
     "execution_count": 14
    }
   ],
   "metadata": {}
  },
  {
   "cell_type": "code",
   "execution_count": 4,
   "source": [
    "f = CSV.File(\"part-00000-d0c7b956-b977-4478-91b3-bbe1461d9b4e-c000.csv\", select=[:vacina_nome, :vacina_dataaplicacao, :vacina_descricao_dose], threaded=true, tasks=8, skipto=10000000, limit=100000000);"
   ],
   "outputs": [],
   "metadata": {}
  },
  {
   "cell_type": "code",
   "execution_count": 5,
   "source": [
    "CSV.write(\"vaccinated_2.csv\", f)"
   ],
   "outputs": [
    {
     "output_type": "execute_result",
     "data": {
      "text/plain": [
       "\"vaccinated_2.csv\""
      ]
     },
     "metadata": {},
     "execution_count": 5
    }
   ],
   "metadata": {}
  },
  {
   "cell_type": "code",
   "execution_count": 6,
   "source": [
    "f = CSV.File(\"part-00000-d0c7b956-b977-4478-91b3-bbe1461d9b4e-c000.csv\", select=[:vacina_nome, :vacina_dataaplicacao, :vacina_descricao_dose], threaded=true, tasks=8, skipto=110000000);"
   ],
   "outputs": [],
   "metadata": {}
  },
  {
   "cell_type": "code",
   "execution_count": 7,
   "source": [
    "CSV.write(\"vaccinated_3.csv\", f)"
   ],
   "outputs": [
    {
     "output_type": "execute_result",
     "data": {
      "text/plain": [
       "\"vaccinated_3.csv\""
      ]
     },
     "metadata": {},
     "execution_count": 7
    }
   ],
   "metadata": {}
  }
 ],
 "metadata": {
  "orig_nbformat": 4,
  "language_info": {
   "file_extension": ".jl",
   "name": "julia",
   "mimetype": "application/julia",
   "version": "1.7.0"
  },
  "kernelspec": {
   "name": "julia-1.7",
   "display_name": "Julia 1.7.0-beta3",
   "language": "julia"
  }
 },
 "nbformat": 4,
 "nbformat_minor": 2
}